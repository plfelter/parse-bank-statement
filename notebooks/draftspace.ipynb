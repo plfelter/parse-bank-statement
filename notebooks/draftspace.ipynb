{
 "cells": [
  {
   "cell_type": "code",
   "execution_count": null,
   "id": "61703ca9-bc62-4209-9019-284b782370e4",
   "metadata": {},
   "outputs": [],
   "source": [
    "\"\"\"\n",
    "Utility function for showing images.\n",
    "\n",
    "Intended to be imported in Jupyter notebooks to display pixmap images.\n",
    "\n",
    "Invocation: \"show_image(item, title)\", where item is a PyMuPDF object\n",
    "which has a \"get_pixmap\" method, and title is an optional string.\n",
    "\n",
    "The function executes \"item.get_pixmap(dpi=150)\" and show the resulting\n",
    "image.\n",
    "\n",
    "\n",
    "Dependencies\n",
    "------------\n",
    "numpy, matplotlib, pymupdf\n",
    "\"\"\"\n",
    "\n",
    "\n",
    "def show_image(item, title=\"\"):\n",
    "    \"\"\"Display a pixmap.\n",
    "\n",
    "    Just to display Pixmap image of \"item\" - ignore the man behind the curtain.\n",
    "\n",
    "    Args:\n",
    "        item: any PyMuPDF object having a \"get_pixmap\" method.\n",
    "        title: a string to be used as image title\n",
    "\n",
    "    Generates an RGB Pixmap from item using a constant DPI and using matplotlib\n",
    "    to show it inline of the notebook.\n",
    "    \"\"\"\n",
    "    DPI = 150  # use this resolution\n",
    "    import numpy as np\n",
    "    import matplotlib.pyplot as plt\n",
    "\n",
    "    # %matplotlib inline\n",
    "    pix = item.get_pixmap(dpi=DPI)\n",
    "    img = np.ndarray([pix.h, pix.w, 3], dtype=np.uint8, buffer=pix.samples_mv)\n",
    "    plt.figure(dpi=DPI)  # set the figure's DPI\n",
    "    plt.title(title)  # set title of image\n",
    "    _ = plt.imshow(img, extent=(0, pix.w * 72 / DPI, pix.h * 72 / DPI, 0))"
   ]
  },
  {
   "cell_type": "code",
   "execution_count": null,
   "id": "5317d211-1a0a-4411-a7c6-ae663805041b",
   "metadata": {},
   "outputs": [],
   "source": [
    "import pandas as pd  # import pandas\n",
    "import fitz  # import PyMuPDF\n",
    "if not hasattr(fitz.Page, \"find_tables\"):\n",
    "    raise RuntimeError(\"This PyMuPDF version does not support the table feature\")"
   ]
  },
  {
   "cell_type": "code",
   "execution_count": null,
   "id": "6d584b9e-a7f2-42ad-bce1-2aa86b341469",
   "metadata": {},
   "outputs": [],
   "source": []
  },
  {
   "cell_type": "code",
   "execution_count": null,
   "id": "0bbb6a6e-dd52-42f4-9b99-5d88c2e764b2",
   "metadata": {},
   "outputs": [],
   "source": [
    "from pathlib import Path\n",
    "doc = fitz.open(list((Path.cwd().parent / \"data\" / \"statements\").glob(\"*.pdf\"))[2])  # open example file\n",
    "page = doc[0]  # read first page to demo the layout\n",
    "show_image(page,\"First Page Content\")"
   ]
  },
  {
   "cell_type": "code",
   "execution_count": null,
   "id": "b96f57d4-e6ed-49cf-a11f-b537d7d352b4",
   "metadata": {},
   "outputs": [],
   "source": [
    "page.find_tables().tables[0].to_pandas()"
   ]
  },
  {
   "cell_type": "code",
   "execution_count": null,
   "id": "843d3f9e-b9d1-4b72-a2ab-e21e46892532",
   "metadata": {},
   "outputs": [],
   "source": [
    "page.get_text()"
   ]
  },
  {
   "cell_type": "code",
   "execution_count": null,
   "id": "566dee17-4522-4dc4-90f6-23f809085512",
   "metadata": {},
   "outputs": [],
   "source": [
    "print(page.get_text())"
   ]
  },
  {
   "cell_type": "code",
   "execution_count": null,
   "id": "5d224fde-717b-4287-ab68-de5b398824ec",
   "metadata": {},
   "outputs": [],
   "source": [
    "import re"
   ]
  },
  {
   "cell_type": "markdown",
   "id": "c086fcc7-e1d3-467f-a41c-6be920b5461b",
   "metadata": {},
   "source": [
    "## LaBanquePostale"
   ]
  },
  {
   "cell_type": "code",
   "execution_count": null,
   "id": "5de36604-fb65-44f4-9f80-3c54994f1678",
   "metadata": {},
   "outputs": [],
   "source": [
    "from pathlib import Path\n",
    "from parse_bank_statement import read\n",
    "import pandas as pd\n",
    "import fitz\n",
    "import re"
   ]
  },
  {
   "cell_type": "code",
   "execution_count": null,
   "id": "2887c3bc-1f69-4496-bb36-4940a399f611",
   "metadata": {},
   "outputs": [],
   "source": [
    "lbp_files = sorted(list((Path.cwd().parent / \"data\" / \"statements\" / \"LaBanquePostale\").glob(\"*.pdf\")))"
   ]
  },
  {
   "cell_type": "code",
   "execution_count": null,
   "id": "9f80ac20-6f9b-4edf-a944-b4f365feefef",
   "metadata": {},
   "outputs": [],
   "source": [
    "dates = pd.Series(sorted([d for d in map(get_emission_date, lbp_files) if d]))\n",
    "dates.groupby(dates.dt.year).count()"
   ]
  },
  {
   "cell_type": "code",
   "execution_count": null,
   "id": "5f6d96a6-b49e-42f0-8d2f-a45819af3300",
   "metadata": {},
   "outputs": [],
   "source": [
    "content = doc[0].get_text()\n",
    "content"
   ]
  },
  {
   "cell_type": "code",
   "execution_count": null,
   "id": "205fa58b-d899-4e30-a287-6dcd31c74dd3",
   "metadata": {},
   "outputs": [],
   "source": [
    "import re\n",
    "re.findall(\n",
    "    r\"\\n(?P<date>\\d{2}/\\d{2})\\n(?P<transaction>.*(?!\\d{2}/\\d{2}))\", content, flags=re.DOTALL\n",
    ")"
   ]
  },
  {
   "cell_type": "code",
   "execution_count": null,
   "id": "7884cd07-f4c2-4566-af0a-f0de1a8ecbf6",
   "metadata": {},
   "outputs": [],
   "source": [
    "import re\n",
    "re.findall(\n",
    "    r\"\\n(?P<header>Date.*?)(?P<ancien_solde>Ancien solde au \\d{2}/\\d{2}\\d{4}\\n)?.*(?P<first_table_date>\\d{2}/\\d{2})\\n\", content, flags=re.DOTALL\n",
    ")"
   ]
  },
  {
   "cell_type": "code",
   "execution_count": null,
   "id": "e8bd230f-fd74-4de7-b053-715c9b5c08b7",
   "metadata": {},
   "outputs": [],
   "source": []
  },
  {
   "cell_type": "code",
   "execution_count": null,
   "id": "cba58987-a52f-4566-a935-49d22d91320a",
   "metadata": {},
   "outputs": [],
   "source": [
    "read.Statement(pdf=lbp_files[0])"
   ]
  },
  {
   "cell_type": "code",
   "execution_count": null,
   "id": "fa9aebc4-4607-41e7-b3c3-f4e585030047",
   "metadata": {},
   "outputs": [],
   "source": [
    "read.Statement(pdf=Path(\"/Users/plfelter/dev/parse-bank-statement/data/statements/LaBanquePostale/RelevÃ© de compte.pdf\"))"
   ]
  },
  {
   "cell_type": "code",
   "execution_count": null,
   "id": "7f5f6f68-b907-4627-bfd6-6c6cf35daf66",
   "metadata": {},
   "outputs": [],
   "source": [
    "lbp_files = sorted(\n",
    "    list(\n",
    "        (Path.cwd().parent / \"data\" / \"statements\" / \"LaBanquePostale\").glob(\n",
    "            \"*.pdf\"\n",
    "        )\n",
    "    )\n",
    ")\n",
    "\n",
    "def get_statement(pdf):\n",
    "    try:\n",
    "        return read.Statement(pdf=pdf)\n",
    "    except Exception:\n",
    "        return None\n",
    "\n",
    "statements = [s for s in map(get_statement, lbp_files) if s]\n",
    "print(\n",
    "    pd.DataFrame(\n",
    "        {\n",
    "            \"headers\": [len(s.headers) for s in statements],\n",
    "            \"filename\": [s.pdf.stem for s in statements]\n",
    "        },\n",
    "        index=[s.emission_date for s in statements],\n",
    "    ).sort_index()\n",
    ")"
   ]
  },
  {
   "cell_type": "code",
   "execution_count": null,
   "id": "07c16044-bbd0-4ae1-899c-702c10281e77",
   "metadata": {},
   "outputs": [],
   "source": []
  }
 ],
 "metadata": {
  "kernelspec": {
   "display_name": "Python 3 (ipykernel)",
   "language": "python",
   "name": "python3"
  },
  "language_info": {
   "codemirror_mode": {
    "name": "ipython",
    "version": 3
   },
   "file_extension": ".py",
   "mimetype": "text/x-python",
   "name": "python",
   "nbconvert_exporter": "python",
   "pygments_lexer": "ipython3",
   "version": "3.10.13"
  }
 },
 "nbformat": 4,
 "nbformat_minor": 5
}
